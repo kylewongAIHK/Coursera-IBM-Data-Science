{
  "nbformat": 4,
  "nbformat_minor": 0,
  "metadata": {
    "colab": {
      "name": "Capstone Project - The Battle of Neighborhood_Wk1.ipynb",
      "version": "0.3.2",
      "provenance": [],
      "include_colab_link": true
    },
    "kernelspec": {
      "name": "python2",
      "display_name": "Python 2"
    }
  },
  "cells": [
    {
      "cell_type": "markdown",
      "metadata": {
        "id": "view-in-github",
        "colab_type": "text"
      },
      "source": [
        "<a href=\"https://colab.research.google.com/github/kylewongAIHK/Coursera-IBM-Data-Science/blob/master/Capstone_Project_The_Battle_of_Neighborhood_Wk1.ipynb\" target=\"_parent\"><img src=\"https://colab.research.google.com/assets/colab-badge.svg\" alt=\"Open In Colab\"/></a>"
      ]
    },
    {
      "cell_type": "markdown",
      "metadata": {
        "id": "D_8dGYJusuUN",
        "colab_type": "text"
      },
      "source": [
        "# Capstone Project - The Battle of Neighborhoods (Week 1)"
      ]
    },
    {
      "cell_type": "markdown",
      "metadata": {
        "id": "ynPkrGJTsuhC",
        "colab_type": "text"
      },
      "source": [
        "## Introduction\n",
        "### Hong Kong is one of the largest financial centre in the world.  It is also a great business centre where East meets West.  In Hong Kong, coffee shops are often the venus for business discussion.  In this capstone project, I am asking a question: where is the best place to open a coffee shop.     "
      ]
    },
    {
      "cell_type": "markdown",
      "metadata": {
        "id": "DO1yXln-sulO",
        "colab_type": "text"
      },
      "source": [
        "## Business Problem\n",
        "### I am going to use spatial data on Hong Kong to determine which district is the best place to open a high end coffee shop.  There are altogether 18 diatricts in Hong Kong.  The answer to this question will depend on two factors:\n",
        "### Factor#1 Which district has above avergae income?  My hypothesis is that the higher income people is more willing to visit a coffee shop.\n",
        "### Factor#2 Which district has the lowest coffee shop to restaurant ratio?  My hypothese is that I ahould avoid area with too many coffee shops.  \n",
        "\n",
        "### By combining the two set of data, I wish to determine the best location to open a coffee shop."
      ]
    },
    {
      "cell_type": "markdown",
      "metadata": {
        "id": "FU9cLp0TsuoN",
        "colab_type": "text"
      },
      "source": [
        "# Data"
      ]
    },
    {
      "cell_type": "markdown",
      "metadata": {
        "id": "IvzXAyU7surG",
        "colab_type": "text"
      },
      "source": [
        "### For income data, the Government of Hong Kong has provided the data on the web site: http://opendata.esrichina.hk/datasets/working-population-distribution-by-income-distribution-in-2016\n",
        "\n",
        "### Income distribution is provided for all 18 districts. I will not open my coffee shop in the district with income below average."
      ]
    },
    {
      "cell_type": "markdown",
      "metadata": {
        "id": "L1I59-KwsuuX",
        "colab_type": "text"
      },
      "source": [
        "###  For coffee shop and resturants, I can use the API provided by Foursquares."
      ]
    },
    {
      "cell_type": "markdown",
      "metadata": {
        "id": "LwV9BBTLsuxB",
        "colab_type": "text"
      },
      "source": [
        ""
      ]
    },
    {
      "cell_type": "markdown",
      "metadata": {
        "id": "z-S3Jm-9su0B",
        "colab_type": "text"
      },
      "source": [
        ""
      ]
    }
  ]
}